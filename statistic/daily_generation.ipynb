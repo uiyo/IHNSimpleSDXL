{
 "cells": [
  {
   "cell_type": "code",
   "execution_count": null,
   "metadata": {},
   "outputs": [],
   "source": [
    "import os\n",
    "import matplotlib.pyplot as plt\n",
    "# 文件结构\n",
    "# main_folder/\n",
    "# ├── person1/\n",
    "# │   ├── date1/\n",
    "# │   │   ├── file1\n",
    "# │   │   └── file2\n",
    "# │   └── date2/\n",
    "# │       ├── file1\n",
    "# │       └── file2\n",
    "# └── person2/\n",
    "#     ├── date1/\n",
    "#     │   ├── file1\n",
    "#     │   └── file2\n",
    "#     └── date2/\n",
    "#         ├── file1\n",
    "#         └── file2\n",
    "# 设置你的主文件夹路径\n",
    "\n",
    "main_folder_path = '../outputs/'\n",
    "\n",
    "# 初始化一个字典来存储每个日期文件夹的文件数量\n",
    "date_folder_counts = {}\n",
    "\n",
    "# 遍历主文件夹下的所有子文件夹（即人名文件夹）\n",
    "for person_folder in os.listdir(main_folder_path):\n",
    "    person_folder_path = os.path.join(main_folder_path, person_folder)\n",
    "    if os.path.isdir(person_folder_path):\n",
    "        # 遍历每个人的文件夹下的所有日期文件夹\n",
    "        for date_folder in os.listdir(person_folder_path):\n",
    "            date_folder_path = os.path.join(person_folder_path, date_folder)\n",
    "            if os.path.isdir(date_folder_path):\n",
    "                # 计算每个日期文件夹下的文件数量\n",
    "                file_count = len(os.listdir(date_folder_path))\n",
    "                # 将结果存储在字典中\n",
    "                date_folder_counts[date_folder] = file_count\n",
    "\n",
    "# 使用matplotlib生成条形图\n",
    "plt.figure(figsize=(10, 5))\n",
    "plt.bar(date_folder_counts.keys(), date_folder_counts.values(), color='skyblue')\n",
    "plt.xlabel('Date Folder')\n",
    "plt.ylabel('Number of Files')\n",
    "plt.title('File Counts by Date Folder')\n",
    "plt.xticks(rotation=45)  # 旋转x轴标签以便更好地阅读\n",
    "plt.tight_layout()  # 自动调整布局以防止标签被裁剪\n",
    "plt.show()"
   ]
  }
 ],
 "metadata": {
  "language_info": {
   "name": "python"
  }
 },
 "nbformat": 4,
 "nbformat_minor": 2
}
